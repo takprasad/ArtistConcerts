{
 "cells": [
  {
   "cell_type": "code",
   "execution_count": null,
   "id": "91f7391a",
   "metadata": {},
   "outputs": [
    {
     "name": "stdout",
     "output_type": "stream",
     "text": [
      "4\n",
      "{'Date': 'Jun 05, 2025', 'Concert': 'CMA Music Festival', 'ConcertLink': 'https://www.concertarchives.org/concerts/cma-music-festival--8207103', 'Venue': 'Downtown Nashville', 'City': 'Nashville', 'State': ' Tennessee', 'Country': ' United States'}\n",
      "{'Date': 'Aug 15, 2025', 'Concert': 'Matt Lang / Sara Dufour / Les Colocs Tribute', 'ConcertLink': 'https://www.concertarchives.org/concerts/petite-nation-en-fete-2025-day-2', 'Venue': '337, rue Elizabeth, Thurso, QC', 'City': 'Thurso', 'State': ' Quebec', 'Country': ' Canada'}\n",
      "{'Date': 'Dec 05, 2025', 'Concert': 'Matt Lang', 'ConcertLink': 'https://www.concertarchives.org/concerts/matt-lang-b607824a-78d2-4966-a03d-1689c14c9dc4', 'Venue': \"L'Etoile | Salle de spectacle\", 'City': 'Brossard', 'State': ' Quebec', 'Country': ' Canada'}\n",
      "{'Date': 'Mar 07, 2026', 'Concert': 'Matt Lang', 'ConcertLink': 'https://www.concertarchives.org/concerts/matt-lang-f415faa1-128b-4562-889b-b20b85536b84', 'Venue': 'Le Club Dix30', 'City': 'Brossard', 'State': ' Quebec', 'Country': ' Canada'}\n"
     ]
    }
   ],
   "source": [
    "from selenium import webdriver\n",
    "from selenium.webdriver.chrome.service import Service\n",
    "from selenium.webdriver.common.by import By\n",
    "import time\n",
    "\n",
    "# Optional: Specify path to your ChromeDriver executable\n",
    "# service = Service(\"/path/to/chromedriver\")\n",
    "# driver = webdriver.Chrome(service=service)\n",
    "\n",
    "# Auto-detect ChromeDriver (if added to PATH)\n",
    "driver = webdriver.Chrome()\n",
    "\n",
    "# Open the webpage\n",
    "driver.get(\"https://www.concertarchives.org/bands/matt-lang?date=upcoming\")  # Replace with the actual URL\n",
    "\n",
    "# Wait for table to load (adjust time as needed or use WebDriverWait for dynamic content)\n",
    "time.sleep(3)\n",
    "\n",
    "# Find the concert table using XPath\n",
    "table = driver.find_element(By.XPATH, '//*[@id=\"band-show-table-condensed\"]')\n",
    "rows = table.find_elements(By.XPATH, \".//tbody/tr\")\n",
    "concerts = []\n",
    "for row in rows:\n",
    "    try:\n",
    "        date = row.find_element(By.XPATH, './/td[1]/span').text.strip()\n",
    "        concert = row.find_element(By.XPATH, './/td[2]/span/strong/a')\n",
    "        concert_link = concert.get_attribute('href')\n",
    "        concert = concert.text.strip()\n",
    "        venue = row.find_element(By.XPATH, './/td[3]').text.strip()\n",
    "        location = row.find_element(By.XPATH, './/td[4]').text.strip().split(',')\n",
    "        city = location[0]\n",
    "        state = location[1]\n",
    "        country = location[2]\n",
    "        \n",
    "        concerts.append({\n",
    "            'Date': date,\n",
    "            'Concert': concert,\n",
    "            'ConcertLink' : concert_link,\n",
    "            'Venue': venue,\n",
    "            'City':city,\n",
    "            'State':state,\n",
    "            'Country': country\n",
    "        })\n",
    "    except Exception as e:\n",
    "        print(f\"Skipping row due to error: {e}\")\n",
    "\n",
    "# Print concert data\n",
    "for concert in concerts:\n",
    "    print(concert)\n",
    "\n",
    "# Close the browser\n",
    "driver.quit()\n"
   ]
  },
  {
   "cell_type": "code",
   "execution_count": null,
   "id": "c05b5dd6",
   "metadata": {},
   "outputs": [],
   "source": [
    "def get_data(driver, url):\n",
    "    driver.get(url)  # Replace with the actual URL\n",
    "\n",
    "    # Wait for table to load (adjust time as needed or use WebDriverWait for dynamic content)\n",
    "    time.sleep(2)\n",
    "    \n",
    "    \n",
    "    # Find the concert table using XPath\n",
    "    concerts = []\n",
    "    while True:\n",
    "        print(1)\n",
    "        rows = driver.find_elements(By.XPATH, '//*[@id=\"band-show-table-condensed\"]/tbody/tr[@style=\"cursor: pointer;\" and not(contains(@class, \"expand-duplicates\"))]')\n",
    "        \n",
    "        \n",
    "        for row in rows:\n",
    "            try:\n",
    "                date = row.find_element(By.XPATH, './/td[1]/span').text.strip()\n",
    "                concert = row.find_element(By.XPATH, './/td[2]/span/strong/a')\n",
    "                concert_link = concert.get_attribute('href')\n",
    "                concert = concert.text.strip()\n",
    "                venue = row.find_element(By.XPATH, './/td[3]').text.strip()\n",
    "                location = row.find_element(By.XPATH, './/td[4]').text.strip().split(',')\n",
    "                city = location[0]\n",
    "                state = location[1]\n",
    "                country = location[2]\n",
    "                \n",
    "                concerts.append({\n",
    "                    'Date': date,\n",
    "                    'Concert': concert,\n",
    "                    'ConcertLink' : concert_link,\n",
    "                    'Venue': venue,\n",
    "                    'City':city,\n",
    "                    'State':state,\n",
    "                    'Country': country\n",
    "                })\n",
    "            except Exception as e:\n",
    "                print(f\"Skipping row due to error: {e}\")\n",
    "        next = driver.find_element(By.XPATH,'//a[@rel=\"next\" and contains(., \"Next →\")]')\n",
    "        if next == None:\n",
    "            break\n",
    "        driver.execute_script(\"arguments[0].click();\", next)\n",
    "\n",
    "        time.sleep(1)\n",
    "        \n",
    "    return concerts"
   ]
  },
  {
   "cell_type": "code",
   "execution_count": 58,
   "id": "703b0654",
   "metadata": {},
   "outputs": [
    {
     "name": "stdout",
     "output_type": "stream",
     "text": [
      "1\n"
     ]
    },
    {
     "ename": "ElementClickInterceptedException",
     "evalue": "Message: element click intercepted: Element <a rel=\"next\" href=\"/bands/weird-al-yankovic?date=upcoming&amp;page=2#concert-table\">...</a> is not clickable at point (326, 614). Other element would receive the click: <iframe id=\"google_ads_iframe_/15184186,1003701/concertarchives_adhesion_0\" name=\"google_ads_iframe_/15184186,1003701/concertarchives_adhesion_0\" title=\"3rd party ad content\" width=\"728\" height=\"90\" scrolling=\"no\" marginwidth=\"0\" marginheight=\"0\" frameborder=\"0\" aria-label=\"Advertisement\" tabindex=\"0\" allow=\"private-state-token-redemption;attribution-reporting\" data-load-complete=\"true\" data-google-container-id=\"3\" style=\"border: 0px; vertical-align: bottom;\" data-integralas-id-70c5ebb2-9a17-b849-f3e2-f7174e4e1a82=\"\"></iframe>\n  (Session info: chrome=136.0.7103.114)\nStacktrace:\n\tGetHandleVerifier [0x00007FF67725CF45+75717]\n\tGetHandleVerifier [0x00007FF67725CFA0+75808]\n\t(No symbol) [0x00007FF677028F9A]\n\t(No symbol) [0x00007FF677087439]\n\t(No symbol) [0x00007FF677084DF2]\n\t(No symbol) [0x00007FF677081EA1]\n\t(No symbol) [0x00007FF677080DA1]\n\t(No symbol) [0x00007FF677072394]\n\t(No symbol) [0x00007FF6770A737A]\n\t(No symbol) [0x00007FF677071C46]\n\t(No symbol) [0x00007FF6770A7590]\n\t(No symbol) [0x00007FF6770CF39C]\n\t(No symbol) [0x00007FF6770A7153]\n\t(No symbol) [0x00007FF677070421]\n\t(No symbol) [0x00007FF6770711B3]\n\tGetHandleVerifier [0x00007FF67755D71D+3223453]\n\tGetHandleVerifier [0x00007FF677557CC2+3200322]\n\tGetHandleVerifier [0x00007FF677575AF3+3322739]\n\tGetHandleVerifier [0x00007FF677276A1A+180890]\n\tGetHandleVerifier [0x00007FF67727E11F+211359]\n\tGetHandleVerifier [0x00007FF677265294+109332]\n\tGetHandleVerifier [0x00007FF677265442+109762]\n\tGetHandleVerifier [0x00007FF67724BA59+4825]\n\tBaseThreadInitThunk [0x00007FFC1EBDE8D7+23]\n\tRtlUserThreadStart [0x00007FFC202BC5DC+44]\n",
     "output_type": "error",
     "traceback": [
      "\u001b[1;31m---------------------------------------------------------------------------\u001b[0m",
      "\u001b[1;31mElementClickInterceptedException\u001b[0m          Traceback (most recent call last)",
      "Cell \u001b[1;32mIn [58], line 2\u001b[0m\n\u001b[0;32m      1\u001b[0m driver \u001b[38;5;241m=\u001b[39m webdriver\u001b[38;5;241m.\u001b[39mChrome()\n\u001b[1;32m----> 2\u001b[0m cons \u001b[38;5;241m=\u001b[39m \u001b[43mget_data\u001b[49m\u001b[43m(\u001b[49m\u001b[43mdriver\u001b[49m\u001b[43m,\u001b[49m\u001b[38;5;124;43m\"\u001b[39;49m\u001b[38;5;124;43mhttps://www.concertarchives.org/bands/weird-al-yankovic?date=upcoming\u001b[39;49m\u001b[38;5;124;43m\"\u001b[39;49m\u001b[43m)\u001b[49m\n\u001b[0;32m      3\u001b[0m \u001b[38;5;28mprint\u001b[39m(\u001b[38;5;28mlen\u001b[39m(cons))\n",
      "Cell \u001b[1;32mIn [57], line 41\u001b[0m, in \u001b[0;36mget_data\u001b[1;34m(driver, url)\u001b[0m\n\u001b[0;32m     39\u001b[0m     \u001b[38;5;28;01mif\u001b[39;00m \u001b[38;5;28mnext\u001b[39m \u001b[38;5;241m==\u001b[39m \u001b[38;5;28;01mNone\u001b[39;00m:\n\u001b[0;32m     40\u001b[0m         \u001b[38;5;28;01mbreak\u001b[39;00m\n\u001b[1;32m---> 41\u001b[0m     \u001b[38;5;28;43mnext\u001b[39;49m\u001b[38;5;241;43m.\u001b[39;49m\u001b[43mclick\u001b[49m\u001b[43m(\u001b[49m\u001b[43m)\u001b[49m\n\u001b[0;32m     42\u001b[0m     time\u001b[38;5;241m.\u001b[39msleep(\u001b[38;5;241m1\u001b[39m)\n\u001b[0;32m     44\u001b[0m \u001b[38;5;28;01mreturn\u001b[39;00m concerts\n",
      "File \u001b[1;32m~\\AppData\\Local\\Packages\\PythonSoftwareFoundation.Python.3.10_qbz5n2kfra8p0\\LocalCache\\local-packages\\Python310\\site-packages\\selenium\\webdriver\\remote\\webelement.py:94\u001b[0m, in \u001b[0;36mWebElement.click\u001b[1;34m(self)\u001b[0m\n\u001b[0;32m     92\u001b[0m \u001b[38;5;28;01mdef\u001b[39;00m \u001b[38;5;21mclick\u001b[39m(\u001b[38;5;28mself\u001b[39m) \u001b[38;5;241m-\u001b[39m\u001b[38;5;241m>\u001b[39m \u001b[38;5;28;01mNone\u001b[39;00m:\n\u001b[0;32m     93\u001b[0m     \u001b[38;5;124;03m\"\"\"Clicks the element.\"\"\"\u001b[39;00m\n\u001b[1;32m---> 94\u001b[0m     \u001b[38;5;28;43mself\u001b[39;49m\u001b[38;5;241;43m.\u001b[39;49m\u001b[43m_execute\u001b[49m\u001b[43m(\u001b[49m\u001b[43mCommand\u001b[49m\u001b[38;5;241;43m.\u001b[39;49m\u001b[43mCLICK_ELEMENT\u001b[49m\u001b[43m)\u001b[49m\n",
      "File \u001b[1;32m~\\AppData\\Local\\Packages\\PythonSoftwareFoundation.Python.3.10_qbz5n2kfra8p0\\LocalCache\\local-packages\\Python310\\site-packages\\selenium\\webdriver\\remote\\webelement.py:395\u001b[0m, in \u001b[0;36mWebElement._execute\u001b[1;34m(self, command, params)\u001b[0m\n\u001b[0;32m    393\u001b[0m     params \u001b[38;5;241m=\u001b[39m {}\n\u001b[0;32m    394\u001b[0m params[\u001b[38;5;124m\"\u001b[39m\u001b[38;5;124mid\u001b[39m\u001b[38;5;124m\"\u001b[39m] \u001b[38;5;241m=\u001b[39m \u001b[38;5;28mself\u001b[39m\u001b[38;5;241m.\u001b[39m_id\n\u001b[1;32m--> 395\u001b[0m \u001b[38;5;28;01mreturn\u001b[39;00m \u001b[38;5;28;43mself\u001b[39;49m\u001b[38;5;241;43m.\u001b[39;49m\u001b[43m_parent\u001b[49m\u001b[38;5;241;43m.\u001b[39;49m\u001b[43mexecute\u001b[49m\u001b[43m(\u001b[49m\u001b[43mcommand\u001b[49m\u001b[43m,\u001b[49m\u001b[43m \u001b[49m\u001b[43mparams\u001b[49m\u001b[43m)\u001b[49m\n",
      "File \u001b[1;32m~\\AppData\\Local\\Packages\\PythonSoftwareFoundation.Python.3.10_qbz5n2kfra8p0\\LocalCache\\local-packages\\Python310\\site-packages\\selenium\\webdriver\\remote\\webdriver.py:380\u001b[0m, in \u001b[0;36mWebDriver.execute\u001b[1;34m(self, driver_command, params)\u001b[0m\n\u001b[0;32m    378\u001b[0m response \u001b[38;5;241m=\u001b[39m \u001b[38;5;28mself\u001b[39m\u001b[38;5;241m.\u001b[39mcommand_executor\u001b[38;5;241m.\u001b[39mexecute(driver_command, params)\n\u001b[0;32m    379\u001b[0m \u001b[38;5;28;01mif\u001b[39;00m response:\n\u001b[1;32m--> 380\u001b[0m     \u001b[38;5;28;43mself\u001b[39;49m\u001b[38;5;241;43m.\u001b[39;49m\u001b[43merror_handler\u001b[49m\u001b[38;5;241;43m.\u001b[39;49m\u001b[43mcheck_response\u001b[49m\u001b[43m(\u001b[49m\u001b[43mresponse\u001b[49m\u001b[43m)\u001b[49m\n\u001b[0;32m    381\u001b[0m     response[\u001b[38;5;124m\"\u001b[39m\u001b[38;5;124mvalue\u001b[39m\u001b[38;5;124m\"\u001b[39m] \u001b[38;5;241m=\u001b[39m \u001b[38;5;28mself\u001b[39m\u001b[38;5;241m.\u001b[39m_unwrap_value(response\u001b[38;5;241m.\u001b[39mget(\u001b[38;5;124m\"\u001b[39m\u001b[38;5;124mvalue\u001b[39m\u001b[38;5;124m\"\u001b[39m, \u001b[38;5;28;01mNone\u001b[39;00m))\n\u001b[0;32m    382\u001b[0m     \u001b[38;5;28;01mreturn\u001b[39;00m response\n",
      "File \u001b[1;32m~\\AppData\\Local\\Packages\\PythonSoftwareFoundation.Python.3.10_qbz5n2kfra8p0\\LocalCache\\local-packages\\Python310\\site-packages\\selenium\\webdriver\\remote\\errorhandler.py:229\u001b[0m, in \u001b[0;36mErrorHandler.check_response\u001b[1;34m(self, response)\u001b[0m\n\u001b[0;32m    227\u001b[0m         alert_text \u001b[38;5;241m=\u001b[39m value[\u001b[38;5;124m\"\u001b[39m\u001b[38;5;124malert\u001b[39m\u001b[38;5;124m\"\u001b[39m]\u001b[38;5;241m.\u001b[39mget(\u001b[38;5;124m\"\u001b[39m\u001b[38;5;124mtext\u001b[39m\u001b[38;5;124m\"\u001b[39m)\n\u001b[0;32m    228\u001b[0m     \u001b[38;5;28;01mraise\u001b[39;00m exception_class(message, screen, stacktrace, alert_text)  \u001b[38;5;66;03m# type: ignore[call-arg]  # mypy is not smart enough here\u001b[39;00m\n\u001b[1;32m--> 229\u001b[0m \u001b[38;5;28;01mraise\u001b[39;00m exception_class(message, screen, stacktrace)\n",
      "\u001b[1;31mElementClickInterceptedException\u001b[0m: Message: element click intercepted: Element <a rel=\"next\" href=\"/bands/weird-al-yankovic?date=upcoming&amp;page=2#concert-table\">...</a> is not clickable at point (326, 614). Other element would receive the click: <iframe id=\"google_ads_iframe_/15184186,1003701/concertarchives_adhesion_0\" name=\"google_ads_iframe_/15184186,1003701/concertarchives_adhesion_0\" title=\"3rd party ad content\" width=\"728\" height=\"90\" scrolling=\"no\" marginwidth=\"0\" marginheight=\"0\" frameborder=\"0\" aria-label=\"Advertisement\" tabindex=\"0\" allow=\"private-state-token-redemption;attribution-reporting\" data-load-complete=\"true\" data-google-container-id=\"3\" style=\"border: 0px; vertical-align: bottom;\" data-integralas-id-70c5ebb2-9a17-b849-f3e2-f7174e4e1a82=\"\"></iframe>\n  (Session info: chrome=136.0.7103.114)\nStacktrace:\n\tGetHandleVerifier [0x00007FF67725CF45+75717]\n\tGetHandleVerifier [0x00007FF67725CFA0+75808]\n\t(No symbol) [0x00007FF677028F9A]\n\t(No symbol) [0x00007FF677087439]\n\t(No symbol) [0x00007FF677084DF2]\n\t(No symbol) [0x00007FF677081EA1]\n\t(No symbol) [0x00007FF677080DA1]\n\t(No symbol) [0x00007FF677072394]\n\t(No symbol) [0x00007FF6770A737A]\n\t(No symbol) [0x00007FF677071C46]\n\t(No symbol) [0x00007FF6770A7590]\n\t(No symbol) [0x00007FF6770CF39C]\n\t(No symbol) [0x00007FF6770A7153]\n\t(No symbol) [0x00007FF677070421]\n\t(No symbol) [0x00007FF6770711B3]\n\tGetHandleVerifier [0x00007FF67755D71D+3223453]\n\tGetHandleVerifier [0x00007FF677557CC2+3200322]\n\tGetHandleVerifier [0x00007FF677575AF3+3322739]\n\tGetHandleVerifier [0x00007FF677276A1A+180890]\n\tGetHandleVerifier [0x00007FF67727E11F+211359]\n\tGetHandleVerifier [0x00007FF677265294+109332]\n\tGetHandleVerifier [0x00007FF677265442+109762]\n\tGetHandleVerifier [0x00007FF67724BA59+4825]\n\tBaseThreadInitThunk [0x00007FFC1EBDE8D7+23]\n\tRtlUserThreadStart [0x00007FFC202BC5DC+44]\n"
     ]
    }
   ],
   "source": [
    "driver = webdriver.Chrome()\n",
    "cons = get_data(driver,\"https://www.concertarchives.org/bands/weird-al-yankovic?date=upcoming\")\n",
    "print(len(cons))\n"
   ]
  },
  {
   "cell_type": "code",
   "execution_count": 18,
   "id": "380ac2b9",
   "metadata": {},
   "outputs": [],
   "source": [
    "import re\n",
    "import unicodedata\n",
    "\n",
    "def slugify(text):    \n",
    "    text = unicodedata.normalize(\"NFKD\", text)      \n",
    "    text = text.replace(\"“\", \"\").replace(\"”\", \"\").replace(\"’\", \"'\").replace(\"‘\", \"'\")      \n",
    "    text = text.replace(\"'\", \"\")\n",
    "    text = re.sub(r\"[^a-zA-Z0-9]+\", \"-\", text)       \n",
    "    return text.strip(\"-\").lower()\n"
   ]
  },
  {
   "cell_type": "code",
   "execution_count": 45,
   "id": "42e1c472",
   "metadata": {},
   "outputs": [
    {
     "data": {
      "text/plain": [
       "'radical-fun-time'"
      ]
     },
     "execution_count": 45,
     "metadata": {},
     "output_type": "execute_result"
    }
   ],
   "source": [
    "slugify(\"\"\"  !Radical Fun Time!\n",
    "        \"\"\")"
   ]
  },
  {
   "cell_type": "code",
   "execution_count": 25,
   "id": "7a0afa8c",
   "metadata": {},
   "outputs": [
    {
     "name": "stdout",
     "output_type": "stream",
     "text": [
      "                                      artist_name\n",
      "0                                             !!!\n",
      "1                               !Bang Elektronika\n",
      "2                              !Radical Fun Time!\n",
      "3              \"Footloose\" Original Broadway Cast\n",
      "4                                 \"Savage Mystic\"\n",
      "...                                           ...\n",
      "58076                         “Little” Louie Vega\n",
      "58077                         “Weird Al” Yankovic\n",
      "58078                                         †††\n",
      "58079  …And You Will Know Us by the Trail of Dead\n",
      "58080                             ☆Taku Takahashi\n",
      "\n",
      "[58081 rows x 1 columns]\n"
     ]
    }
   ],
   "source": [
    "import pandas as pd\n",
    "df = pd.read_excel('artist_names.xlsx')\n",
    "print(df)"
   ]
  },
  {
   "cell_type": "code",
   "execution_count": null,
   "id": "e8e96c56",
   "metadata": {},
   "outputs": [],
   "source": []
  }
 ],
 "metadata": {
  "kernelspec": {
   "display_name": "Python 3",
   "language": "python",
   "name": "python3"
  },
  "language_info": {
   "codemirror_mode": {
    "name": "ipython",
    "version": 3
   },
   "file_extension": ".py",
   "mimetype": "text/x-python",
   "name": "python",
   "nbconvert_exporter": "python",
   "pygments_lexer": "ipython3",
   "version": "3.10.11"
  }
 },
 "nbformat": 4,
 "nbformat_minor": 5
}
